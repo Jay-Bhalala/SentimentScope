{
 "cells": [
  {
   "cell_type": "markdown",
   "id": "fdf0eaec",
   "metadata": {},
   "source": [
    "# Sentiment Analysis Exploration"
   ]
  },
  {
   "cell_type": "code",
   "execution_count": null,
   "id": "01d8fd79",
   "metadata": {},
   "outputs": [],
   "source": [
    "import pandas as pd\n",
    "import matplotlib.pyplot as plt"
   ]
  },
  {
   "cell_type": "markdown",
   "id": "8a7b4018",
   "metadata": {},
   "source": [
    "## Load and Explore Data"
   ]
  },
  {
   "cell_type": "code",
   "execution_count": null,
   "id": "ba1b0ed2",
   "metadata": {},
   "outputs": [],
   "source": [
    "data = pd.read_csv('path_to_your_cleaned_tweets.csv')\n",
    "data.head()"
   ]
  },
  {
   "cell_type": "markdown",
   "id": "17156860",
   "metadata": {},
   "source": [
    "## Basic Statistics"
   ]
  },
  {
   "cell_type": "code",
   "execution_count": null,
   "id": "13b20f0c",
   "metadata": {},
   "outputs": [],
   "source": [
    "data['sentiment_score'].describe()"
   ]
  },
  {
   "cell_type": "markdown",
   "id": "78016140",
   "metadata": {},
   "source": [
    "## Sentiment Distribution"
   ]
  },
  {
   "cell_type": "code",
   "execution_count": null,
   "id": "b714065c",
   "metadata": {},
   "outputs": [],
   "source": [
    "data['sentiment_score'].hist(bins=20)\n",
    "plt.title('Sentiment Score Distribution')\n",
    "plt.show()"
   ]
  }
 ],
 "metadata": {
  "language_info": {
   "name": "python"
  }
 },
 "nbformat": 4,
 "nbformat_minor": 5
}
